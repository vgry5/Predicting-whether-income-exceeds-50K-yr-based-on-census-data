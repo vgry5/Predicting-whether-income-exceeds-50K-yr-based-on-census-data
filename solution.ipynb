{
 "cells": [
  {
   "cell_type": "code",
   "execution_count": 31,
   "id": "9d1f0e6c-713a-4a4b-b8a9-83150201697a",
   "metadata": {},
   "outputs": [],
   "source": [
    "import pandas as pd\n",
    "import numpy as np\n",
    "import scipy.stats as stats"
   ]
  },
  {
   "cell_type": "code",
   "execution_count": 32,
   "id": "71092a87-c34b-47c7-ab2f-17b7580f40de",
   "metadata": {},
   "outputs": [
    {
     "name": "stderr",
     "output_type": "stream",
     "text": [
      "/var/folders/dc/5z3pbmdn0y7432jf8nxdqh9r0000gn/T/ipykernel_5630/1472080914.py:4: FutureWarning: A value is trying to be set on a copy of a DataFrame or Series through chained assignment using an inplace method.\n",
      "The behavior will change in pandas 3.0. This inplace method will never work because the intermediate object on which we are setting values always behaves as a copy.\n",
      "\n",
      "For example, when doing 'df[col].method(value, inplace=True)', try using 'df.method({col: value}, inplace=True)' or df[col] = df[col].method(value) instead, to perform the operation inplace on the original object.\n",
      "\n",
      "\n",
      "  dataset_latest['income'].replace({'<=50K':0,'>50K':1},inplace=True)\n",
      "/var/folders/dc/5z3pbmdn0y7432jf8nxdqh9r0000gn/T/ipykernel_5630/1472080914.py:4: FutureWarning: Downcasting behavior in `replace` is deprecated and will be removed in a future version. To retain the old behavior, explicitly call `result.infer_objects(copy=False)`. To opt-in to the future behavior, set `pd.set_option('future.no_silent_downcasting', True)`\n",
      "  dataset_latest['income'].replace({'<=50K':0,'>50K':1},inplace=True)\n",
      "/var/folders/dc/5z3pbmdn0y7432jf8nxdqh9r0000gn/T/ipykernel_5630/1472080914.py:4: SettingWithCopyWarning: \n",
      "A value is trying to be set on a copy of a slice from a DataFrame\n",
      "\n",
      "See the caveats in the documentation: https://pandas.pydata.org/pandas-docs/stable/user_guide/indexing.html#returning-a-view-versus-a-copy\n",
      "  dataset_latest['income'].replace({'<=50K':0,'>50K':1},inplace=True)\n"
     ]
    }
   ],
   "source": [
    "dataset = pd.read_csv('/Users/admin/Downloads/ML_CW/adult.csv')\n",
    "dataset[dataset == '?'] = np.nan\n",
    "dataset_latest = dataset.dropna(axis=0)\n",
    "dataset_latest['income'].replace({'<=50K':0,'>50K':1},inplace=True)\n",
    "dataset_latest =dataset_latest.drop('education.num', axis=1)"
   ]
  },
  {
   "cell_type": "code",
   "execution_count": 33,
   "id": "2ff92ef0-31f7-407c-929e-7bdd7ec3f1b0",
   "metadata": {},
   "outputs": [],
   "source": [
    "# x = ['age','capital.loss','capital.gain','hours.per.week','fnlwgt']\n",
    "# for i in x:\n",
    "#     print(i,':',stats.pointbiserialr(dataset_latest['income'],dataset_latest[i])[0])"
   ]
  },
  {
   "cell_type": "code",
   "execution_count": 34,
   "id": "6f8c9c63-da87-4153-aee9-4f8bf3da2fed",
   "metadata": {},
   "outputs": [
    {
     "name": "stdout",
     "output_type": "stream",
     "text": [
      "Optimization terminated successfully.\n",
      "         Current function value: 0.455527\n",
      "         Iterations 8\n",
      "                           Logit Regression Results                           \n",
      "==============================================================================\n",
      "Dep. Variable:                 income   No. Observations:                30162\n",
      "Model:                          Logit   Df Residuals:                    30156\n",
      "Method:                           MLE   Df Model:                            5\n",
      "Date:                Thu, 15 Feb 2024   Pseudo R-squ.:                  0.1882\n",
      "Time:                        20:05:53   Log-Likelihood:                -13740.\n",
      "converged:                       True   LL-Null:                       -16925.\n",
      "Covariance Type:            nonrobust   LLR p-value:                     0.000\n",
      "==================================================================================\n",
      "                     coef    std err          z      P>|z|      [0.025      0.975]\n",
      "----------------------------------------------------------------------------------\n",
      "const             -5.0130      0.089    -56.442      0.000      -5.187      -4.839\n",
      "age                0.0408      0.001     34.097      0.000       0.038       0.043\n",
      "capital.loss       0.0008   3.12e-05     24.787      0.000       0.001       0.001\n",
      "capital.gain       0.0003   9.33e-06     35.265      0.000       0.000       0.000\n",
      "hours.per.week     0.0443      0.001     33.061      0.000       0.042       0.047\n",
      "fnlwgt          3.806e-07   1.44e-07      2.649      0.008     9.9e-08    6.62e-07\n",
      "==================================================================================\n"
     ]
    }
   ],
   "source": [
    "import statsmodels.api as sm\n",
    "\n",
    "# Define the independent variables (features)\n",
    "X = dataset_latest[['age', 'capital.loss', 'capital.gain', 'hours.per.week', 'fnlwgt']]\n",
    "\n",
    "# Add a constant term to the independent variables\n",
    "X = sm.add_constant(X)\n",
    "\n",
    "# Define the dependent variable\n",
    "y = dataset_latest['income']\n",
    "\n",
    "# Fit logistic regression model\n",
    "logit_model = sm.Logit(y, X)\n",
    "result = logit_model.fit()\n",
    "\n",
    "# Print summary of the logistic regression model\n",
    "print(result.summary())"
   ]
  },
  {
   "cell_type": "code",
   "execution_count": 35,
   "id": "4b0f178b-d0c3-4780-8bac-fa00504f293a",
   "metadata": {},
   "outputs": [],
   "source": [
    "def c_table(observations = []):\n",
    "    obsrv = pd.crosstab(observations,dataset_latest['income'])\n",
    "    value = stats.chi2_contingency(obsrv)\n",
    "    return(value[1])\n",
    "\n",
    "categ = dataset_latest.columns[dataset_latest.dtypes != object].tolist()[5:]\n",
    "a = 0.01 \n",
    "count = 0\n",
    "charactersitics = []\n",
    "for i in categ:\n",
    "    p_v =c_table(dataset_latest[i])\n",
    "    if p_v <= a:\n",
    "        count = count + 1 \n",
    "\n",
    "categ_cols = dataset_latest.columns[dataset_latest.dtypes == object].tolist()\n",
    "dataset_latest = pd.get_dummies(dataset_latest, columns = categ_cols)\n",
    "\n",
    "from sklearn.preprocessing import MinMaxScaler\n",
    "\n",
    "col_scale = ['age', 'capital.gain', 'capital.loss' , 'hours.per.week']\n",
    "MinMax = MinMaxScaler()\n",
    "max_min_col = MinMax.fit_transform(dataset_latest[col_scale])\n",
    "\n",
    "dataset_latest['age'] = max_min_col[:, 0]\n",
    "dataset_latest['capital.gain'] = max_min_col[:, 1]\n",
    "dataset_latest['capital.loss'] = max_min_col[:, 2]\n",
    "dataset_latest['hours.per.week'] = max_min_col[:, 3]\n",
    "\n",
    "# dataset_latest['age'],dataset_latest['capital.gain'],dataset_latest['capital.loss'],dataset_latest['hours.per.week'] = \n",
    "#                 max_min_col[:,0],max_min_col[:,1],\n",
    "#                 max_min_col[:,2],max_min_col[:,3]"
   ]
  },
  {
   "cell_type": "code",
   "execution_count": 38,
   "id": "0ac0d0e5-5223-4567-bc40-0cddc2f62c78",
   "metadata": {},
   "outputs": [
    {
     "ename": "AttributeError",
     "evalue": "'function' object has no attribute 'drop'",
     "output_type": "error",
     "traceback": [
      "\u001b[0;31m---------------------------------------------------------------------------\u001b[0m",
      "\u001b[0;31mAttributeError\u001b[0m                            Traceback (most recent call last)",
      "Cell \u001b[0;32mIn[38], line 6\u001b[0m\n\u001b[1;32m      3\u001b[0m \u001b[38;5;28;01mfrom\u001b[39;00m \u001b[38;5;21;01mimblearn\u001b[39;00m\u001b[38;5;21;01m.\u001b[39;00m\u001b[38;5;21;01mover_sampling\u001b[39;00m \u001b[38;5;28;01mimport\u001b[39;00m SMOTE\n\u001b[1;32m      4\u001b[0m \u001b[38;5;28;01mfrom\u001b[39;00m \u001b[38;5;21;01msklearn\u001b[39;00m\u001b[38;5;21;01m.\u001b[39;00m\u001b[38;5;21;01mlinear_model\u001b[39;00m \u001b[38;5;28;01mimport\u001b[39;00m LogisticRegression\n\u001b[0;32m----> 6\u001b[0m x_axis \u001b[38;5;241m=\u001b[39m \u001b[43mchi2\u001b[49m\u001b[38;5;241;43m.\u001b[39;49m\u001b[43mdrop\u001b[49m(\u001b[38;5;124m'\u001b[39m\u001b[38;5;124mincome\u001b[39m\u001b[38;5;124m'\u001b[39m, axis\u001b[38;5;241m=\u001b[39m\u001b[38;5;241m1\u001b[39m)\n\u001b[1;32m      7\u001b[0m y_axis \u001b[38;5;241m=\u001b[39m chi2[\u001b[38;5;124m'\u001b[39m\u001b[38;5;124mincome\u001b[39m\u001b[38;5;124m'\u001b[39m]\n\u001b[1;32m      8\u001b[0m X_train, X_test, Y_train, Y_test \u001b[38;5;241m=\u001b[39m split(x_axis,y_axis, test_s \u001b[38;5;241m=\u001b[39m \u001b[38;5;241m0.3\u001b[39m , random_s \u001b[38;5;241m=\u001b[39m\u001b[38;5;241m1\u001b[39m )\n",
      "\u001b[0;31mAttributeError\u001b[0m: 'function' object has no attribute 'drop'"
     ]
    }
   ],
   "source": [
    "from sklearn.feature_selection import chi2\n",
    "from sklearn.model_selection import train_test_split\n",
    "from imblearn.over_sampling import SMOTE\n",
    "from sklearn.linear_model import LogisticRegression\n",
    "\n",
    "x_axis = chi2.drop('income', axis=1)\n",
    "y_axis = chi2['income']\n",
    "X_train, X_test, Y_train, Y_test = split(x_axis,y_axis, test_s = 0.3 , random_s =1 )\n",
    "x_train, y_train = SMOTE().fit_sample(X_train, Y_train)\n",
    "\n",
    "l_model = LogisticRegression()\n",
    "l_model.fit(x_train,y_train)\n",
    "predic = l_model.predict(X_test)"
   ]
  },
  {
   "cell_type": "code",
   "execution_count": null,
   "id": "be84231a-7b98-4327-bf9c-4c4944464671",
   "metadata": {},
   "outputs": [],
   "source": []
  }
 ],
 "metadata": {
  "kernelspec": {
   "display_name": "Python 3.12(tensorflow)",
   "language": "python",
   "name": "tensorflow"
  },
  "language_info": {
   "codemirror_mode": {
    "name": "ipython",
    "version": 3
   },
   "file_extension": ".py",
   "mimetype": "text/x-python",
   "name": "python",
   "nbconvert_exporter": "python",
   "pygments_lexer": "ipython3",
   "version": "3.10.13"
  }
 },
 "nbformat": 4,
 "nbformat_minor": 5
}
